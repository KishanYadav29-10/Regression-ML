{
 "cells": [
  {
   "cell_type": "markdown",
   "metadata": {},
   "source": [
    "# Featurization, Model Selection & Tuning - Linear Regression"
   ]
  },
  {
   "cell_type": "markdown",
   "metadata": {},
   "source": [
    "**Why is regularization required ?**\n",
    "\n",
    "We are well aware of the issue of 'Curse of dimensionality', where the no. of columns are so huge that the no. of rows does not cover all the permutation and combinations that is applicable for this dataset.\n",
    "For eg: Data having 10 columns should have 10! rows but it has only 1000 rows\n",
    "\n",
    "Therefore,when we depict this graphically there would be lot of white spaces as the datapoints for those regions may not be covered in the dataset.\n",
    "\n",
    "If a  linear regression model is tested over such a data, the model will tend to overfit this data by having sharp peaks & slopes. Such a model would have 100% training accuracy but would definitely fail in the test environment.\n",
    "\n",
    "Thus arose the need of introducing slight errors in the form of giving smooth bends instead of sharp peaks (thereby reducing overfit).This is achieved by tweaking the model parameters (coefficients) and the hyperparameters (penalty factor). "
   ]
  },
  {
   "cell_type": "markdown",
   "metadata": {},
   "source": [
    "## Agenda\n",
    "\n",
    "* Perform basic EDA\n",
    "* Scale data and apply Linear, Ridge & Lasso Regression with Regularization \n",
    "* Compare the r^2 score to determine which of the above regression methods gives the highest score\n",
    "* Compute Root mean squared error (RMSE) which inturn gives a better score than r^2\n",
    "* Finally use a scatter plot to graphically depict the correlation between actual and predicted mpg values"
   ]
  },
  {
   "cell_type": "markdown",
   "metadata": {},
   "source": [
    "# 1. Import packages "
   ]
  },
  {
   "cell_type": "code",
   "execution_count": 1,
   "metadata": {},
   "outputs": [],
   "source": [
    "#Import numerical libraries\n",
    "import pandas as pd \n",
    "import numpy as np\n",
    "\n",
    "# import graphical plotting libraries \n",
    "import matplotlib.pyplot as plt\n",
    "%matplotlib inline\n",
    "import seaborn as sns \n",
    "\n",
    "# import linear regression machine learning libraries \n",
    "from sklearn import preprocessing\n",
    "from sklearn.preprocessing import PolynomialFeatures\n",
    "from sklearn.model_selection import train_test_split\n",
    "\n",
    "from sklearn.linear_model import LinearRegression,Ridge,Lasso\n",
    "from sklearn.metrics import r2_score\n",
    "\n"
   ]
  },
  {
   "cell_type": "markdown",
   "metadata": {},
   "source": [
    "# 2. load dataset "
   ]
  },
  {
   "cell_type": "code",
   "execution_count": 2,
   "metadata": {},
   "outputs": [
    {
     "data": {
      "text/html": [
       "<div>\n",
       "<style scoped>\n",
       "    .dataframe tbody tr th:only-of-type {\n",
       "        vertical-align: middle;\n",
       "    }\n",
       "\n",
       "    .dataframe tbody tr th {\n",
       "        vertical-align: top;\n",
       "    }\n",
       "\n",
       "    .dataframe thead th {\n",
       "        text-align: right;\n",
       "    }\n",
       "</style>\n",
       "<table border=\"1\" class=\"dataframe\">\n",
       "  <thead>\n",
       "    <tr style=\"text-align: right;\">\n",
       "      <th></th>\n",
       "      <th>mpg</th>\n",
       "      <th>cyl</th>\n",
       "      <th>disp</th>\n",
       "      <th>hp</th>\n",
       "      <th>wt</th>\n",
       "      <th>acc</th>\n",
       "      <th>yr</th>\n",
       "      <th>origin</th>\n",
       "      <th>car_type</th>\n",
       "      <th>car_name</th>\n",
       "    </tr>\n",
       "  </thead>\n",
       "  <tbody>\n",
       "    <tr>\n",
       "      <th>0</th>\n",
       "      <td>18.0</td>\n",
       "      <td>8</td>\n",
       "      <td>307.0</td>\n",
       "      <td>130</td>\n",
       "      <td>3504</td>\n",
       "      <td>12.0</td>\n",
       "      <td>70</td>\n",
       "      <td>1</td>\n",
       "      <td>0</td>\n",
       "      <td>chevrolet chevelle malibu</td>\n",
       "    </tr>\n",
       "    <tr>\n",
       "      <th>1</th>\n",
       "      <td>15.0</td>\n",
       "      <td>8</td>\n",
       "      <td>350.0</td>\n",
       "      <td>165</td>\n",
       "      <td>3693</td>\n",
       "      <td>11.5</td>\n",
       "      <td>70</td>\n",
       "      <td>1</td>\n",
       "      <td>0</td>\n",
       "      <td>buick skylark 320</td>\n",
       "    </tr>\n",
       "    <tr>\n",
       "      <th>2</th>\n",
       "      <td>18.0</td>\n",
       "      <td>8</td>\n",
       "      <td>318.0</td>\n",
       "      <td>150</td>\n",
       "      <td>3436</td>\n",
       "      <td>11.0</td>\n",
       "      <td>70</td>\n",
       "      <td>1</td>\n",
       "      <td>0</td>\n",
       "      <td>plymouth satellite</td>\n",
       "    </tr>\n",
       "    <tr>\n",
       "      <th>3</th>\n",
       "      <td>16.0</td>\n",
       "      <td>8</td>\n",
       "      <td>304.0</td>\n",
       "      <td>150</td>\n",
       "      <td>3433</td>\n",
       "      <td>12.0</td>\n",
       "      <td>70</td>\n",
       "      <td>1</td>\n",
       "      <td>0</td>\n",
       "      <td>amc rebel sst</td>\n",
       "    </tr>\n",
       "    <tr>\n",
       "      <th>4</th>\n",
       "      <td>17.0</td>\n",
       "      <td>8</td>\n",
       "      <td>302.0</td>\n",
       "      <td>140</td>\n",
       "      <td>3449</td>\n",
       "      <td>10.5</td>\n",
       "      <td>70</td>\n",
       "      <td>1</td>\n",
       "      <td>0</td>\n",
       "      <td>ford torino</td>\n",
       "    </tr>\n",
       "  </tbody>\n",
       "</table>\n",
       "</div>"
      ],
      "text/plain": [
       "    mpg  cyl   disp   hp    wt   acc  yr  origin  car_type  \\\n",
       "0  18.0    8  307.0  130  3504  12.0  70       1         0   \n",
       "1  15.0    8  350.0  165  3693  11.5  70       1         0   \n",
       "2  18.0    8  318.0  150  3436  11.0  70       1         0   \n",
       "3  16.0    8  304.0  150  3433  12.0  70       1         0   \n",
       "4  17.0    8  302.0  140  3449  10.5  70       1         0   \n",
       "\n",
       "                    car_name  \n",
       "0  chevrolet chevelle malibu  \n",
       "1          buick skylark 320  \n",
       "2         plymouth satellite  \n",
       "3              amc rebel sst  \n",
       "4                ford torino  "
      ]
     },
     "execution_count": 2,
     "metadata": {},
     "output_type": "execute_result"
    }
   ],
   "source": [
    "data = pd.read_csv(r\"C:\\Users\\ky321\\OneDrive\\Desktop\\Data science and Ai\\Machine Learning\\lasso & Ridge Regularisation\\car-mpg.csv\")\n",
    "data.head()"
   ]
  },
  {
   "cell_type": "markdown",
   "metadata": {},
   "source": [
    "* Drop car name\n",
    "* Replace origin into 1,2,3.. dont forget get_dummies\n",
    "* Replace ? with nan\n",
    "* Replace all nan with median"
   ]
  },
  {
   "cell_type": "code",
   "execution_count": 3,
   "metadata": {},
   "outputs": [],
   "source": [
    "data = data.drop(['car_name'],axis=1)\n",
    "data['origin'] = data['origin'].replace({1:'america',2:'eruope',3:'asia'})\n",
    "data = pd.get_dummies(data,columns=['origin'])\n",
    "data =data.replace('?',np.nan)\n",
    "data = data.apply(pd.to_numeric, errors='coerce')\n",
    "data = data.apply(lambda x : x.fillna(x.median()),axis=0)"
   ]
  },
  {
   "cell_type": "code",
   "execution_count": 4,
   "metadata": {},
   "outputs": [
    {
     "data": {
      "text/html": [
       "<div>\n",
       "<style scoped>\n",
       "    .dataframe tbody tr th:only-of-type {\n",
       "        vertical-align: middle;\n",
       "    }\n",
       "\n",
       "    .dataframe tbody tr th {\n",
       "        vertical-align: top;\n",
       "    }\n",
       "\n",
       "    .dataframe thead th {\n",
       "        text-align: right;\n",
       "    }\n",
       "</style>\n",
       "<table border=\"1\" class=\"dataframe\">\n",
       "  <thead>\n",
       "    <tr style=\"text-align: right;\">\n",
       "      <th></th>\n",
       "      <th>mpg</th>\n",
       "      <th>cyl</th>\n",
       "      <th>disp</th>\n",
       "      <th>hp</th>\n",
       "      <th>wt</th>\n",
       "      <th>acc</th>\n",
       "      <th>yr</th>\n",
       "      <th>car_type</th>\n",
       "      <th>origin_america</th>\n",
       "      <th>origin_asia</th>\n",
       "      <th>origin_eruope</th>\n",
       "    </tr>\n",
       "  </thead>\n",
       "  <tbody>\n",
       "    <tr>\n",
       "      <th>0</th>\n",
       "      <td>18.0</td>\n",
       "      <td>8</td>\n",
       "      <td>307.0</td>\n",
       "      <td>130.0</td>\n",
       "      <td>3504</td>\n",
       "      <td>12.0</td>\n",
       "      <td>70</td>\n",
       "      <td>0</td>\n",
       "      <td>True</td>\n",
       "      <td>False</td>\n",
       "      <td>False</td>\n",
       "    </tr>\n",
       "    <tr>\n",
       "      <th>1</th>\n",
       "      <td>15.0</td>\n",
       "      <td>8</td>\n",
       "      <td>350.0</td>\n",
       "      <td>165.0</td>\n",
       "      <td>3693</td>\n",
       "      <td>11.5</td>\n",
       "      <td>70</td>\n",
       "      <td>0</td>\n",
       "      <td>True</td>\n",
       "      <td>False</td>\n",
       "      <td>False</td>\n",
       "    </tr>\n",
       "    <tr>\n",
       "      <th>2</th>\n",
       "      <td>18.0</td>\n",
       "      <td>8</td>\n",
       "      <td>318.0</td>\n",
       "      <td>150.0</td>\n",
       "      <td>3436</td>\n",
       "      <td>11.0</td>\n",
       "      <td>70</td>\n",
       "      <td>0</td>\n",
       "      <td>True</td>\n",
       "      <td>False</td>\n",
       "      <td>False</td>\n",
       "    </tr>\n",
       "    <tr>\n",
       "      <th>3</th>\n",
       "      <td>16.0</td>\n",
       "      <td>8</td>\n",
       "      <td>304.0</td>\n",
       "      <td>150.0</td>\n",
       "      <td>3433</td>\n",
       "      <td>12.0</td>\n",
       "      <td>70</td>\n",
       "      <td>0</td>\n",
       "      <td>True</td>\n",
       "      <td>False</td>\n",
       "      <td>False</td>\n",
       "    </tr>\n",
       "    <tr>\n",
       "      <th>4</th>\n",
       "      <td>17.0</td>\n",
       "      <td>8</td>\n",
       "      <td>302.0</td>\n",
       "      <td>140.0</td>\n",
       "      <td>3449</td>\n",
       "      <td>10.5</td>\n",
       "      <td>70</td>\n",
       "      <td>0</td>\n",
       "      <td>True</td>\n",
       "      <td>False</td>\n",
       "      <td>False</td>\n",
       "    </tr>\n",
       "  </tbody>\n",
       "</table>\n",
       "</div>"
      ],
      "text/plain": [
       "    mpg  cyl   disp     hp    wt   acc  yr  car_type  origin_america  \\\n",
       "0  18.0    8  307.0  130.0  3504  12.0  70         0            True   \n",
       "1  15.0    8  350.0  165.0  3693  11.5  70         0            True   \n",
       "2  18.0    8  318.0  150.0  3436  11.0  70         0            True   \n",
       "3  16.0    8  304.0  150.0  3433  12.0  70         0            True   \n",
       "4  17.0    8  302.0  140.0  3449  10.5  70         0            True   \n",
       "\n",
       "   origin_asia  origin_eruope  \n",
       "0        False          False  \n",
       "1        False          False  \n",
       "2        False          False  \n",
       "3        False          False  \n",
       "4        False          False  "
      ]
     },
     "execution_count": 4,
     "metadata": {},
     "output_type": "execute_result"
    }
   ],
   "source": [
    "data.head()"
   ]
  },
  {
   "cell_type": "markdown",
   "metadata": {},
   "source": [
    "We have to predict the mpg column given the features."
   ]
  },
  {
   "cell_type": "markdown",
   "metadata": {},
   "source": [
    "# 3. Model building"
   ]
  },
  {
   "cell_type": "markdown",
   "metadata": {},
   "source": [
    "Here we would like to scale the data as the columns are varied which would result in 1 column dominating the others.\n",
    "\n",
    "First we divide the data into independent (X) and dependent data (y) then we scale it. \n",
    "\n",
    "#### Tip!: ####\n",
    "\n",
    "*The reason we don't scale the entire data before and then divide it into train(X) & test(y) is because once you scale the data, the type(data_s) would be numpy.ndarray. It's impossible to divide this data when it's an array. \n",
    "*\n",
    "\n",
    "Hence we divide type(data) pandas.DataFrame, then proceed to scaling it."
   ]
  },
  {
   "cell_type": "code",
   "execution_count": 5,
   "metadata": {},
   "outputs": [],
   "source": [
    "x = data.drop(['mpg'],axis=1) # independent varibale \n",
    "y = data[['mpg']] # dependent varibale "
   ]
  },
  {
   "cell_type": "markdown",
   "metadata": {},
   "source": [
    "# scaling the data "
   ]
  },
  {
   "cell_type": "code",
   "execution_count": 6,
   "metadata": {},
   "outputs": [],
   "source": [
    "x_s = preprocessing.scale(x)\n",
    "x_s =pd.DataFrame(x_s,columns = x.columns) # converting scaled data into  data frame\n",
    "\n",
    "y_s = preprocessing.scale(y)\n",
    "y_s =pd.DataFrame(y_s,columns = y.columns )# ideally train data should be in columns  "
   ]
  },
  {
   "cell_type": "markdown",
   "metadata": {},
   "source": [
    "# split into train , test set"
   ]
  },
  {
   "cell_type": "code",
   "execution_count": 7,
   "metadata": {},
   "outputs": [
    {
     "data": {
      "text/plain": [
       "(278, 10)"
      ]
     },
     "execution_count": 7,
     "metadata": {},
     "output_type": "execute_result"
    }
   ],
   "source": [
    "x_train,x_test ,y_train,y_test = train_test_split(x_s,y_s,test_size=0.30,random_state=1)\n",
    "x_train.shape"
   ]
  },
  {
   "cell_type": "markdown",
   "metadata": {},
   "source": [
    "# 3.a Simple linear model"
   ]
  },
  {
   "cell_type": "code",
   "execution_count": 8,
   "metadata": {},
   "outputs": [
    {
     "name": "stdout",
     "output_type": "stream",
     "text": [
      "The coefficient for cyl is 0.32102238569161057\n",
      "The coefficient for disp is 0.324834309184838\n",
      "The coefficient for hp is -0.22916950059437718\n",
      "The coefficient for wt is -0.7112101905072288\n",
      "The coefficient for acc is 0.014713682764190883\n",
      "The coefficient for yr is 0.3755811949510743\n",
      "The coefficient for car_type is 0.3814769484233099\n",
      "The coefficient for origin_america is -0.07472247547584182\n",
      "The coefficient for origin_asia is 0.044515252035678216\n",
      "The coefficient for origin_eruope is 0.04834854953945382\n",
      "The intercept is 0.0192841161036397\n"
     ]
    }
   ],
   "source": [
    "#Fit simple linear model and find coefficients\n",
    "regression_model = LinearRegression()\n",
    "regression_model.fit(x_train,y_train)\n",
    "\n",
    "for idx,col_name in enumerate(x_train.columns):\n",
    "    print('The coefficient for {} is {}'.format(col_name,regression_model.coef_[0][idx]))\n",
    "    \n",
    "intercept = regression_model.intercept_[0]\n",
    "print(\"The intercept is {}\".format(intercept)) "
   ]
  },
  {
   "cell_type": "markdown",
   "metadata": {},
   "source": [
    "# 3.b Regularized Ridge Regression"
   ]
  },
  {
   "cell_type": "code",
   "execution_count": 9,
   "metadata": {},
   "outputs": [
    {
     "name": "stdout",
     "output_type": "stream",
     "text": [
      "Ridge model coef :[ 0.31649043  0.31320707 -0.22876025 -0.70109447  0.01295851  0.37447352\n",
      "  0.37725608 -0.07423624  0.04441039  0.04784031]\n"
     ]
    }
   ],
   "source": [
    "#alpha factor here is lambda (penalty term) which helps to reduce the magnitude of coeff\n",
    "\n",
    "ridge_model = Ridge(alpha=0.3)\n",
    "ridge_model.fit(x_train,y_train)\n",
    "\n",
    "print('Ridge model coef :{}'.format(ridge_model.coef_))\n",
    "#as the data has 10 columns hence 10 coefficient  appears here \n"
   ]
  },
  {
   "cell_type": "markdown",
   "metadata": {},
   "source": [
    "# 3.c Regularized Lasso Regression"
   ]
  },
  {
   "cell_type": "code",
   "execution_count": 10,
   "metadata": {},
   "outputs": [
    {
     "name": "stdout",
     "output_type": "stream",
     "text": [
      "Lasso model coef: [-0.         -0.         -0.01690287 -0.51890013  0.          0.28138241\n",
      "  0.1278489  -0.01642647  0.          0.        ]\n"
     ]
    }
   ],
   "source": [
    "#alpha factor here is lambda (penalty term) which helps to reduce the magnitude of coeff\n",
    "\n",
    "lasso_model = Lasso(alpha=0.1)\n",
    "lasso_model.fit(x_train,y_train)\n",
    "\n",
    "print('Lasso model coef: {}'.format(lasso_model.coef_))\n",
    "# #As the data has 10 columns hence 10 coefficients appear here"
   ]
  },
  {
   "cell_type": "markdown",
   "metadata": {},
   "source": [
    "Here we notice many coefficients are turned to 0 indicating drop of those dimensions from the model"
   ]
  },
  {
   "cell_type": "markdown",
   "metadata": {},
   "source": [
    "# 4. Score Comparison"
   ]
  },
  {
   "cell_type": "code",
   "execution_count": 11,
   "metadata": {},
   "outputs": [
    {
     "name": "stdout",
     "output_type": "stream",
     "text": [
      "0.8343770256960538\n",
      "0.8513421387780067\n",
      "*********************\n",
      "0.8343617931312616\n",
      "0.8518882171608508\n",
      "*********************\n",
      "0.7938010766228453\n",
      "0.8375229615977083\n"
     ]
    }
   ],
   "source": [
    "# Model score  - r^2 or coeff of determinat\n",
    "# r^2 = 1-(RSS/TSS) = regression error /TSS\n",
    "\n",
    "# simple linear model\n",
    "print(regression_model.score(x_train,y_train))\n",
    "print(regression_model.score(x_test,y_test))\n",
    "\n",
    "print('*********************')\n",
    "#Ridge\n",
    "print(ridge_model.score(x_train,y_train))\n",
    "print(ridge_model.score(x_test,y_test))\n",
    "\n",
    "print(\"*********************\")\n",
    "#Lasso\n",
    "print(lasso_model.score(x_train,y_train))\n",
    "print(lasso_model.score(x_test,y_test))"
   ]
  },
  {
   "cell_type": "markdown",
   "metadata": {},
   "source": [
    "## Polynomial Features"
   ]
  },
  {
   "cell_type": "markdown",
   "metadata": {},
   "source": [
    "If you wish to further compute polynomial features, you can use the below code."
   ]
  },
  {
   "cell_type": "code",
   "execution_count": 12,
   "metadata": {},
   "outputs": [],
   "source": [
    "poly = PolynomialFeatures(degree = 2, interaction_only = True)\n",
    "\n",
    "# Fit calculates u and std dev while transform applies the transformation to a particular set of examples\n",
    "# Here fit_transform helps to fit and transform the X_s\n",
    "# Hence type(X_poly) is numpy.array while type(X_s) is pandas.DataFrame \n",
    "X_poly = poly.fit_transform(x_s)\n",
    "# Similarly capture the coefficients and intercepts of this polynomial feature model"
   ]
  },
  {
   "cell_type": "markdown",
   "metadata": {},
   "source": [
    "# 5. Model Parameter Tuning"
   ]
  },
  {
   "cell_type": "markdown",
   "metadata": {},
   "source": [
    "* r^2 is not a reliable metric as it always increases with addition of more attributes even if the attributes have no influence on the predicted variable. Instead we use adjusted r^2 which removes the statistical chance that improves r^2 \n",
    "\n",
    "(adjusted r^2 = r^2 - fluke)\n",
    "* Scikit does not provide a facility for adjusted r^2... so we use statsmodel, a library that gives results similar to what you obtain in R language\n",
    "* This library expects the X and Y to be given in one single dataframe"
   ]
  },
  {
   "cell_type": "code",
   "execution_count": 13,
   "metadata": {},
   "outputs": [
    {
     "data": {
      "text/html": [
       "<div>\n",
       "<style scoped>\n",
       "    .dataframe tbody tr th:only-of-type {\n",
       "        vertical-align: middle;\n",
       "    }\n",
       "\n",
       "    .dataframe tbody tr th {\n",
       "        vertical-align: top;\n",
       "    }\n",
       "\n",
       "    .dataframe thead th {\n",
       "        text-align: right;\n",
       "    }\n",
       "</style>\n",
       "<table border=\"1\" class=\"dataframe\">\n",
       "  <thead>\n",
       "    <tr style=\"text-align: right;\">\n",
       "      <th></th>\n",
       "      <th>cyl</th>\n",
       "      <th>disp</th>\n",
       "      <th>hp</th>\n",
       "      <th>wt</th>\n",
       "      <th>acc</th>\n",
       "      <th>yr</th>\n",
       "      <th>car_type</th>\n",
       "      <th>origin_america</th>\n",
       "      <th>origin_asia</th>\n",
       "      <th>origin_eruope</th>\n",
       "      <th>mpg</th>\n",
       "    </tr>\n",
       "  </thead>\n",
       "  <tbody>\n",
       "    <tr>\n",
       "      <th>350</th>\n",
       "      <td>-0.856321</td>\n",
       "      <td>-0.849116</td>\n",
       "      <td>-1.081977</td>\n",
       "      <td>-0.893172</td>\n",
       "      <td>-0.242570</td>\n",
       "      <td>1.351199</td>\n",
       "      <td>0.941412</td>\n",
       "      <td>0.773559</td>\n",
       "      <td>-0.497643</td>\n",
       "      <td>-0.461968</td>\n",
       "      <td>1.432898</td>\n",
       "    </tr>\n",
       "    <tr>\n",
       "      <th>59</th>\n",
       "      <td>-0.856321</td>\n",
       "      <td>-0.925936</td>\n",
       "      <td>-1.317736</td>\n",
       "      <td>-0.847061</td>\n",
       "      <td>2.879909</td>\n",
       "      <td>-1.085858</td>\n",
       "      <td>0.941412</td>\n",
       "      <td>-1.292726</td>\n",
       "      <td>-0.497643</td>\n",
       "      <td>2.164651</td>\n",
       "      <td>-0.065919</td>\n",
       "    </tr>\n",
       "    <tr>\n",
       "      <th>120</th>\n",
       "      <td>-0.856321</td>\n",
       "      <td>-0.695475</td>\n",
       "      <td>0.201600</td>\n",
       "      <td>-0.121101</td>\n",
       "      <td>-0.024722</td>\n",
       "      <td>-0.815074</td>\n",
       "      <td>0.941412</td>\n",
       "      <td>-1.292726</td>\n",
       "      <td>-0.497643</td>\n",
       "      <td>2.164651</td>\n",
       "      <td>-0.578335</td>\n",
       "    </tr>\n",
       "    <tr>\n",
       "      <th>12</th>\n",
       "      <td>1.498191</td>\n",
       "      <td>1.983643</td>\n",
       "      <td>1.197027</td>\n",
       "      <td>0.934732</td>\n",
       "      <td>-2.203196</td>\n",
       "      <td>-1.627426</td>\n",
       "      <td>-1.062235</td>\n",
       "      <td>0.773559</td>\n",
       "      <td>-0.497643</td>\n",
       "      <td>-0.461968</td>\n",
       "      <td>-1.090751</td>\n",
       "    </tr>\n",
       "    <tr>\n",
       "      <th>349</th>\n",
       "      <td>-0.856321</td>\n",
       "      <td>-0.983552</td>\n",
       "      <td>-0.951000</td>\n",
       "      <td>-1.165111</td>\n",
       "      <td>0.156817</td>\n",
       "      <td>1.351199</td>\n",
       "      <td>0.941412</td>\n",
       "      <td>-1.292726</td>\n",
       "      <td>2.009471</td>\n",
       "      <td>-0.461968</td>\n",
       "      <td>1.356035</td>\n",
       "    </tr>\n",
       "  </tbody>\n",
       "</table>\n",
       "</div>"
      ],
      "text/plain": [
       "          cyl      disp        hp        wt       acc        yr  car_type  \\\n",
       "350 -0.856321 -0.849116 -1.081977 -0.893172 -0.242570  1.351199  0.941412   \n",
       "59  -0.856321 -0.925936 -1.317736 -0.847061  2.879909 -1.085858  0.941412   \n",
       "120 -0.856321 -0.695475  0.201600 -0.121101 -0.024722 -0.815074  0.941412   \n",
       "12   1.498191  1.983643  1.197027  0.934732 -2.203196 -1.627426 -1.062235   \n",
       "349 -0.856321 -0.983552 -0.951000 -1.165111  0.156817  1.351199  0.941412   \n",
       "\n",
       "     origin_america  origin_asia  origin_eruope       mpg  \n",
       "350        0.773559    -0.497643      -0.461968  1.432898  \n",
       "59        -1.292726    -0.497643       2.164651 -0.065919  \n",
       "120       -1.292726    -0.497643       2.164651 -0.578335  \n",
       "12         0.773559    -0.497643      -0.461968 -1.090751  \n",
       "349       -1.292726     2.009471      -0.461968  1.356035  "
      ]
     },
     "execution_count": 13,
     "metadata": {},
     "output_type": "execute_result"
    }
   ],
   "source": [
    "data_train_test = pd.concat([x_train,y_train],axis=1)\n",
    "data_train_test.head()"
   ]
  },
  {
   "cell_type": "code",
   "execution_count": 16,
   "metadata": {},
   "outputs": [
    {
     "data": {
      "text/plain": [
       "Intercept        -3.336090e-16\n",
       "cyl              -6.800116e-16\n",
       "disp              7.389922e-16\n",
       "hp                2.593412e-16\n",
       "wt               -5.065393e-16\n",
       "acc              -1.032160e-16\n",
       "yr                9.454243e-17\n",
       "car_type         -5.724587e-17\n",
       "origin_america    7.155734e-17\n",
       "origin_eruope     6.722053e-17\n",
       "origin_asia      -3.816392e-17\n",
       "mpg               1.000000e+00\n",
       "dtype: float64"
      ]
     },
     "execution_count": 16,
     "metadata": {},
     "output_type": "execute_result"
    }
   ],
   "source": [
    "import statsmodels.formula.api as smf\n",
    "ols1 =smf.ols(formula='mpg ~ cyl+disp+hp+wt+acc+yr+car_type+origin_america+origin_eruope+origin_asia+mpg', data = data_train_test).fit()\n",
    "ols1.params"
   ]
  },
  {
   "cell_type": "code",
   "execution_count": 17,
   "metadata": {},
   "outputs": [
    {
     "name": "stdout",
     "output_type": "stream",
     "text": [
      "                            OLS Regression Results                            \n",
      "==============================================================================\n",
      "Dep. Variable:                    mpg   R-squared:                       1.000\n",
      "Model:                            OLS   Adj. R-squared:                  1.000\n",
      "Method:                 Least Squares   F-statistic:                 1.341e+32\n",
      "Date:                Fri, 04 Apr 2025   Prob (F-statistic):               0.00\n",
      "Time:                        15:50:16   Log-Likelihood:                 9429.3\n",
      "No. Observations:                 278   AIC:                        -1.884e+04\n",
      "Df Residuals:                     267   BIC:                        -1.880e+04\n",
      "Df Model:                          10                                         \n",
      "Covariance Type:            nonrobust                                         \n",
      "==================================================================================\n",
      "                     coef    std err          t      P>|t|      [0.025      0.975]\n",
      "----------------------------------------------------------------------------------\n",
      "Intercept      -3.336e-16   2.77e-17    -12.040      0.000   -3.88e-16   -2.79e-16\n",
      "cyl              -6.8e-16   1.25e-16     -5.425      0.000   -9.27e-16   -4.33e-16\n",
      "disp             7.39e-16   1.42e-16      5.206      0.000    4.59e-16    1.02e-15\n",
      "hp              2.593e-16   8.77e-17      2.957      0.003    8.66e-17    4.32e-16\n",
      "wt             -5.065e-16   1.07e-16     -4.716      0.000   -7.18e-16   -2.95e-16\n",
      "acc            -1.032e-16   4.33e-17     -2.382      0.018   -1.89e-16   -1.79e-17\n",
      "yr              9.454e-17   4.04e-17      2.342      0.020    1.51e-17    1.74e-16\n",
      "car_type       -5.725e-17   7.75e-17     -0.739      0.461    -2.1e-16    9.54e-17\n",
      "origin_america  7.156e-17   2.26e-17      3.164      0.002     2.7e-17    1.16e-16\n",
      "origin_eruope   6.722e-17   2.36e-17      2.846      0.005    2.07e-17    1.14e-16\n",
      "origin_asia    -3.816e-17   2.27e-17     -1.683      0.094   -8.28e-17     6.5e-18\n",
      "mpg                1.0000   6.71e-17   1.49e+16      0.000       1.000       1.000\n",
      "==============================================================================\n",
      "Omnibus:                        4.264   Durbin-Watson:                   1.024\n",
      "Prob(Omnibus):                  0.119   Jarque-Bera (JB):                4.457\n",
      "Skew:                           0.173   Prob(JB):                        0.108\n",
      "Kurtosis:                       3.515   Cond. No.                     5.70e+15\n",
      "==============================================================================\n",
      "\n",
      "Notes:\n",
      "[1] Standard Errors assume that the covariance matrix of the errors is correctly specified.\n",
      "[2] The smallest eigenvalue is 5.44e-29. This might indicate that there are\n",
      "strong multicollinearity problems or that the design matrix is singular.\n"
     ]
    }
   ],
   "source": [
    "print(ols1.summary())"
   ]
  },
  {
   "cell_type": "code",
   "execution_count": 18,
   "metadata": {},
   "outputs": [
    {
     "name": "stdout",
     "output_type": "stream",
     "text": [
      "Root mean squared error: 0.3776693425408783\n"
     ]
    }
   ],
   "source": [
    "#Lets check Sum of Squared Errors (SSE) by predicting value of y for test cases and subtracting from the actual y for the test cases\n",
    "mse =np.mean((regression_model.predict(x_test)-y_test)**2)\n",
    "\n",
    "# # root of mean_sq_error is standard deviation i.e. avg variance between predicted and actual\n",
    "import math\n",
    "rmse = math.sqrt(mse)\n",
    "print('Root mean squared error: {}'.format(rmse))"
   ]
  },
  {
   "cell_type": "markdown",
   "metadata": {},
   "source": [
    "**So there is an avg. mpg difference of 0.37 from real mpg**"
   ]
  },
  {
   "cell_type": "code",
   "execution_count": 21,
   "metadata": {},
   "outputs": [
    {
     "data": {
      "text/plain": [
       "<Axes: xlabel='acc', ylabel='mpg'>"
      ]
     },
     "execution_count": 21,
     "metadata": {},
     "output_type": "execute_result"
    },
    {
     "data": {
      "image/png": "[encoded data removed]",
      "text/plain": [
       "<Figure size 1000x800 with 1 Axes>"
      ]
     },
     "metadata": {},
     "output_type": "display_data"
    },
    {
     "data": {
      "image/png": "[encoded data removed]",
      "text/plain": [
       "<Figure size 1000x800 with 1 Axes>"
      ]
     },
     "metadata": {},
     "output_type": "display_data"
    }
   ],
   "source": [
    "# Is OLS a good model ? Lets check the residuals for some of these predictor.\n",
    "\n",
    "fig = plt.figure(figsize=(10,8))\n",
    "sns.residplot(x=x_test['hp'],y=y_test['mpg'],color='green',lowess=True)\n",
    "\n",
    "fig = plt.figure(figsize=(10,8))\n",
    "sns.residplot(x= x_test['acc'], y= y_test['mpg'], color='red', lowess=True )"
   ]
  },
  {
   "cell_type": "code",
   "execution_count": 22,
   "metadata": {},
   "outputs": [
    {
     "data": {
      "text/plain": [
       "<matplotlib.collections.PathCollection at 0x221905f0380>"
      ]
     },
     "execution_count": 22,
     "metadata": {},
     "output_type": "execute_result"
    },
    {
     "data": {
      "image/png": "[encoded data removed]",
      "text/plain": [
       "<Figure size 640x480 with 1 Axes>"
      ]
     },
     "metadata": {},
     "output_type": "display_data"
    }
   ],
   "source": [
    "# predict mileage (mpg) for a set of attributes not in the training or test set\n",
    "y_pred = regression_model.predict(x_test)\n",
    "\n",
    "# Since this is regression, plot the predicted y value vs actual y values for the test data\n",
    "# A good model's prediction will be close to actual leading to high R and R2 values\n",
    "#plt.rcParams['figure.dpi'] = 500\n",
    "plt.scatter(y_test['mpg'], y_pred)"
   ]
  },
  {
   "cell_type": "markdown",
   "metadata": {},
   "source": [
    "# 6. Inference"
   ]
  },
  {
   "cell_type": "markdown",
   "metadata": {},
   "source": [
    "**Both Ridge & Lasso regularization performs very well on this data, though Ridge gives a better score. The above scatter plot depicts the correlation between the actual and predicted mpg values.**\n"
   ]
  }
 ],
 "metadata": {
  "kernelspec": {
   "display_name": "Python 3",
   "language": "python",
   "name": "python3"
  },
  "language_info": {
   "codemirror_mode": {
    "name": "ipython",
    "version": 3
   },
   "file_extension": ".py",
   "mimetype": "text/x-python",
   "name": "python",
   "nbconvert_exporter": "python",
   "pygments_lexer": "ipython3",
   "version": "3.12.1"
  }
 },
 "nbformat": 4,
 "nbformat_minor": 2
}
